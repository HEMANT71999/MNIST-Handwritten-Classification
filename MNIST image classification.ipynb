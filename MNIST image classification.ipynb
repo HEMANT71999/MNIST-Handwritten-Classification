{
 "cells": [
  {
   "cell_type": "code",
   "execution_count": 1,
   "id": "2dca8227",
   "metadata": {},
   "outputs": [],
   "source": [
    "from keras.datasets import mnist"
   ]
  },
  {
   "cell_type": "code",
   "execution_count": 2,
   "id": "6f47e4bb",
   "metadata": {},
   "outputs": [],
   "source": [
    "dataset = mnist.load_data('mnist.db')"
   ]
  },
  {
   "cell_type": "code",
   "execution_count": 3,
   "id": "4e76a29a",
   "metadata": {},
   "outputs": [
    {
     "data": {
      "text/plain": [
       "2"
      ]
     },
     "execution_count": 3,
     "metadata": {},
     "output_type": "execute_result"
    }
   ],
   "source": [
    " len(dataset)"
   ]
  },
  {
   "cell_type": "code",
   "execution_count": 4,
   "id": "4f6e2c5f",
   "metadata": {},
   "outputs": [
    {
     "data": {
      "text/plain": [
       "((array([[[0, 0, 0, ..., 0, 0, 0],\n",
       "          [0, 0, 0, ..., 0, 0, 0],\n",
       "          [0, 0, 0, ..., 0, 0, 0],\n",
       "          ...,\n",
       "          [0, 0, 0, ..., 0, 0, 0],\n",
       "          [0, 0, 0, ..., 0, 0, 0],\n",
       "          [0, 0, 0, ..., 0, 0, 0]],\n",
       "  \n",
       "         [[0, 0, 0, ..., 0, 0, 0],\n",
       "          [0, 0, 0, ..., 0, 0, 0],\n",
       "          [0, 0, 0, ..., 0, 0, 0],\n",
       "          ...,\n",
       "          [0, 0, 0, ..., 0, 0, 0],\n",
       "          [0, 0, 0, ..., 0, 0, 0],\n",
       "          [0, 0, 0, ..., 0, 0, 0]],\n",
       "  \n",
       "         [[0, 0, 0, ..., 0, 0, 0],\n",
       "          [0, 0, 0, ..., 0, 0, 0],\n",
       "          [0, 0, 0, ..., 0, 0, 0],\n",
       "          ...,\n",
       "          [0, 0, 0, ..., 0, 0, 0],\n",
       "          [0, 0, 0, ..., 0, 0, 0],\n",
       "          [0, 0, 0, ..., 0, 0, 0]],\n",
       "  \n",
       "         ...,\n",
       "  \n",
       "         [[0, 0, 0, ..., 0, 0, 0],\n",
       "          [0, 0, 0, ..., 0, 0, 0],\n",
       "          [0, 0, 0, ..., 0, 0, 0],\n",
       "          ...,\n",
       "          [0, 0, 0, ..., 0, 0, 0],\n",
       "          [0, 0, 0, ..., 0, 0, 0],\n",
       "          [0, 0, 0, ..., 0, 0, 0]],\n",
       "  \n",
       "         [[0, 0, 0, ..., 0, 0, 0],\n",
       "          [0, 0, 0, ..., 0, 0, 0],\n",
       "          [0, 0, 0, ..., 0, 0, 0],\n",
       "          ...,\n",
       "          [0, 0, 0, ..., 0, 0, 0],\n",
       "          [0, 0, 0, ..., 0, 0, 0],\n",
       "          [0, 0, 0, ..., 0, 0, 0]],\n",
       "  \n",
       "         [[0, 0, 0, ..., 0, 0, 0],\n",
       "          [0, 0, 0, ..., 0, 0, 0],\n",
       "          [0, 0, 0, ..., 0, 0, 0],\n",
       "          ...,\n",
       "          [0, 0, 0, ..., 0, 0, 0],\n",
       "          [0, 0, 0, ..., 0, 0, 0],\n",
       "          [0, 0, 0, ..., 0, 0, 0]]], dtype=uint8),\n",
       "  array([5, 0, 4, ..., 5, 6, 8], dtype=uint8)),\n",
       " (array([[[0, 0, 0, ..., 0, 0, 0],\n",
       "          [0, 0, 0, ..., 0, 0, 0],\n",
       "          [0, 0, 0, ..., 0, 0, 0],\n",
       "          ...,\n",
       "          [0, 0, 0, ..., 0, 0, 0],\n",
       "          [0, 0, 0, ..., 0, 0, 0],\n",
       "          [0, 0, 0, ..., 0, 0, 0]],\n",
       "  \n",
       "         [[0, 0, 0, ..., 0, 0, 0],\n",
       "          [0, 0, 0, ..., 0, 0, 0],\n",
       "          [0, 0, 0, ..., 0, 0, 0],\n",
       "          ...,\n",
       "          [0, 0, 0, ..., 0, 0, 0],\n",
       "          [0, 0, 0, ..., 0, 0, 0],\n",
       "          [0, 0, 0, ..., 0, 0, 0]],\n",
       "  \n",
       "         [[0, 0, 0, ..., 0, 0, 0],\n",
       "          [0, 0, 0, ..., 0, 0, 0],\n",
       "          [0, 0, 0, ..., 0, 0, 0],\n",
       "          ...,\n",
       "          [0, 0, 0, ..., 0, 0, 0],\n",
       "          [0, 0, 0, ..., 0, 0, 0],\n",
       "          [0, 0, 0, ..., 0, 0, 0]],\n",
       "  \n",
       "         ...,\n",
       "  \n",
       "         [[0, 0, 0, ..., 0, 0, 0],\n",
       "          [0, 0, 0, ..., 0, 0, 0],\n",
       "          [0, 0, 0, ..., 0, 0, 0],\n",
       "          ...,\n",
       "          [0, 0, 0, ..., 0, 0, 0],\n",
       "          [0, 0, 0, ..., 0, 0, 0],\n",
       "          [0, 0, 0, ..., 0, 0, 0]],\n",
       "  \n",
       "         [[0, 0, 0, ..., 0, 0, 0],\n",
       "          [0, 0, 0, ..., 0, 0, 0],\n",
       "          [0, 0, 0, ..., 0, 0, 0],\n",
       "          ...,\n",
       "          [0, 0, 0, ..., 0, 0, 0],\n",
       "          [0, 0, 0, ..., 0, 0, 0],\n",
       "          [0, 0, 0, ..., 0, 0, 0]],\n",
       "  \n",
       "         [[0, 0, 0, ..., 0, 0, 0],\n",
       "          [0, 0, 0, ..., 0, 0, 0],\n",
       "          [0, 0, 0, ..., 0, 0, 0],\n",
       "          ...,\n",
       "          [0, 0, 0, ..., 0, 0, 0],\n",
       "          [0, 0, 0, ..., 0, 0, 0],\n",
       "          [0, 0, 0, ..., 0, 0, 0]]], dtype=uint8),\n",
       "  array([7, 2, 1, ..., 4, 5, 6], dtype=uint8)))"
      ]
     },
     "execution_count": 4,
     "metadata": {},
     "output_type": "execute_result"
    }
   ],
   "source": [
    "dataset"
   ]
  },
  {
   "cell_type": "code",
   "execution_count": 5,
   "id": "085c8539",
   "metadata": {},
   "outputs": [],
   "source": [
    "train , test = dataset"
   ]
  },
  {
   "cell_type": "code",
   "execution_count": 6,
   "id": "538c6019",
   "metadata": {},
   "outputs": [],
   "source": [
    "X_train,y_train = train"
   ]
  },
  {
   "cell_type": "code",
   "execution_count": 7,
   "id": "f7692083",
   "metadata": {},
   "outputs": [],
   "source": [
    "X_test  ,y_test = test"
   ]
  },
  {
   "cell_type": "code",
   "execution_count": 8,
   "id": "0c68f835",
   "metadata": {},
   "outputs": [
    {
     "data": {
      "text/plain": [
       "10000"
      ]
     },
     "execution_count": 8,
     "metadata": {},
     "output_type": "execute_result"
    }
   ],
   "source": [
    "len(X_test )"
   ]
  },
  {
   "cell_type": "code",
   "execution_count": 9,
   "id": "e19ad1cc",
   "metadata": {},
   "outputs": [
    {
     "data": {
      "text/plain": [
       "array([[  0,   0,   0,   0,   0,   0,   0,   0,   0,   0,   0,   0,   0,\n",
       "          0,   0,   0,   0,   0,   0,   0,   0,   0,   0,   0,   0,   0,\n",
       "          0,   0],\n",
       "       [  0,   0,   0,   0,   0,   0,   0,   0,   0,   0,   0,   0,   0,\n",
       "          0,   0,   0,   0,   0,   0,   0,   0,   0,   0,   0,   0,   0,\n",
       "          0,   0],\n",
       "       [  0,   0,   0,   0,   0,   0,   0,   0,   0,   0,   0,   0,   0,\n",
       "          0,   0,   0,   0,   0,   0,   0,   0,   0,   0,   0,   0,   0,\n",
       "          0,   0],\n",
       "       [  0,   0,   0,   0,   0,   0,   0,   0,   0,   0,   0,   0,   0,\n",
       "          0,   0,   0,   0,   0,   0,   0,   0,   0,   0,   0,   0,   0,\n",
       "          0,   0],\n",
       "       [  0,   0,   0,   0,   0,   0,   0,   0,   0,   0,   0,   0,   0,\n",
       "          0,   0,   0,   0,   0,   0,   0,   0,   0,   0,   0,   0,   0,\n",
       "          0,   0],\n",
       "       [  0,   0,   0,   0,   0,   0,   0,   0,   0,   0,   0,   0,   3,\n",
       "         18,  18,  18, 126, 136, 175,  26, 166, 255, 247, 127,   0,   0,\n",
       "          0,   0],\n",
       "       [  0,   0,   0,   0,   0,   0,   0,   0,  30,  36,  94, 154, 170,\n",
       "        253, 253, 253, 253, 253, 225, 172, 253, 242, 195,  64,   0,   0,\n",
       "          0,   0],\n",
       "       [  0,   0,   0,   0,   0,   0,   0,  49, 238, 253, 253, 253, 253,\n",
       "        253, 253, 253, 253, 251,  93,  82,  82,  56,  39,   0,   0,   0,\n",
       "          0,   0],\n",
       "       [  0,   0,   0,   0,   0,   0,   0,  18, 219, 253, 253, 253, 253,\n",
       "        253, 198, 182, 247, 241,   0,   0,   0,   0,   0,   0,   0,   0,\n",
       "          0,   0],\n",
       "       [  0,   0,   0,   0,   0,   0,   0,   0,  80, 156, 107, 253, 253,\n",
       "        205,  11,   0,  43, 154,   0,   0,   0,   0,   0,   0,   0,   0,\n",
       "          0,   0],\n",
       "       [  0,   0,   0,   0,   0,   0,   0,   0,   0,  14,   1, 154, 253,\n",
       "         90,   0,   0,   0,   0,   0,   0,   0,   0,   0,   0,   0,   0,\n",
       "          0,   0],\n",
       "       [  0,   0,   0,   0,   0,   0,   0,   0,   0,   0,   0, 139, 253,\n",
       "        190,   2,   0,   0,   0,   0,   0,   0,   0,   0,   0,   0,   0,\n",
       "          0,   0],\n",
       "       [  0,   0,   0,   0,   0,   0,   0,   0,   0,   0,   0,  11, 190,\n",
       "        253,  70,   0,   0,   0,   0,   0,   0,   0,   0,   0,   0,   0,\n",
       "          0,   0],\n",
       "       [  0,   0,   0,   0,   0,   0,   0,   0,   0,   0,   0,   0,  35,\n",
       "        241, 225, 160, 108,   1,   0,   0,   0,   0,   0,   0,   0,   0,\n",
       "          0,   0],\n",
       "       [  0,   0,   0,   0,   0,   0,   0,   0,   0,   0,   0,   0,   0,\n",
       "         81, 240, 253, 253, 119,  25,   0,   0,   0,   0,   0,   0,   0,\n",
       "          0,   0],\n",
       "       [  0,   0,   0,   0,   0,   0,   0,   0,   0,   0,   0,   0,   0,\n",
       "          0,  45, 186, 253, 253, 150,  27,   0,   0,   0,   0,   0,   0,\n",
       "          0,   0],\n",
       "       [  0,   0,   0,   0,   0,   0,   0,   0,   0,   0,   0,   0,   0,\n",
       "          0,   0,  16,  93, 252, 253, 187,   0,   0,   0,   0,   0,   0,\n",
       "          0,   0],\n",
       "       [  0,   0,   0,   0,   0,   0,   0,   0,   0,   0,   0,   0,   0,\n",
       "          0,   0,   0,   0, 249, 253, 249,  64,   0,   0,   0,   0,   0,\n",
       "          0,   0],\n",
       "       [  0,   0,   0,   0,   0,   0,   0,   0,   0,   0,   0,   0,   0,\n",
       "          0,  46, 130, 183, 253, 253, 207,   2,   0,   0,   0,   0,   0,\n",
       "          0,   0],\n",
       "       [  0,   0,   0,   0,   0,   0,   0,   0,   0,   0,   0,   0,  39,\n",
       "        148, 229, 253, 253, 253, 250, 182,   0,   0,   0,   0,   0,   0,\n",
       "          0,   0],\n",
       "       [  0,   0,   0,   0,   0,   0,   0,   0,   0,   0,  24, 114, 221,\n",
       "        253, 253, 253, 253, 201,  78,   0,   0,   0,   0,   0,   0,   0,\n",
       "          0,   0],\n",
       "       [  0,   0,   0,   0,   0,   0,   0,   0,  23,  66, 213, 253, 253,\n",
       "        253, 253, 198,  81,   2,   0,   0,   0,   0,   0,   0,   0,   0,\n",
       "          0,   0],\n",
       "       [  0,   0,   0,   0,   0,   0,  18, 171, 219, 253, 253, 253, 253,\n",
       "        195,  80,   9,   0,   0,   0,   0,   0,   0,   0,   0,   0,   0,\n",
       "          0,   0],\n",
       "       [  0,   0,   0,   0,  55, 172, 226, 253, 253, 253, 253, 244, 133,\n",
       "         11,   0,   0,   0,   0,   0,   0,   0,   0,   0,   0,   0,   0,\n",
       "          0,   0],\n",
       "       [  0,   0,   0,   0, 136, 253, 253, 253, 212, 135, 132,  16,   0,\n",
       "          0,   0,   0,   0,   0,   0,   0,   0,   0,   0,   0,   0,   0,\n",
       "          0,   0],\n",
       "       [  0,   0,   0,   0,   0,   0,   0,   0,   0,   0,   0,   0,   0,\n",
       "          0,   0,   0,   0,   0,   0,   0,   0,   0,   0,   0,   0,   0,\n",
       "          0,   0],\n",
       "       [  0,   0,   0,   0,   0,   0,   0,   0,   0,   0,   0,   0,   0,\n",
       "          0,   0,   0,   0,   0,   0,   0,   0,   0,   0,   0,   0,   0,\n",
       "          0,   0],\n",
       "       [  0,   0,   0,   0,   0,   0,   0,   0,   0,   0,   0,   0,   0,\n",
       "          0,   0,   0,   0,   0,   0,   0,   0,   0,   0,   0,   0,   0,\n",
       "          0,   0]], dtype=uint8)"
      ]
     },
     "execution_count": 9,
     "metadata": {},
     "output_type": "execute_result"
    }
   ],
   "source": [
    "  X_train[0]"
   ]
  },
  {
   "cell_type": "code",
   "execution_count": 10,
   "id": "ab416e67",
   "metadata": {},
   "outputs": [
    {
     "data": {
      "text/plain": [
       "(28, 28)"
      ]
     },
     "execution_count": 10,
     "metadata": {},
     "output_type": "execute_result"
    }
   ],
   "source": [
    "   X_train[0].shape"
   ]
  },
  {
   "cell_type": "code",
   "execution_count": 11,
   "id": "bcbc6c55",
   "metadata": {},
   "outputs": [
    {
     "data": {
      "text/plain": [
       "(60000, 28, 28)"
      ]
     },
     "execution_count": 11,
     "metadata": {},
     "output_type": "execute_result"
    }
   ],
   "source": [
    "X_train.shape"
   ]
  },
  {
   "cell_type": "code",
   "execution_count": 12,
   "id": "4512fc33",
   "metadata": {},
   "outputs": [],
   "source": [
    "import matplotlib.pyplot as plt"
   ]
  },
  {
   "cell_type": "code",
   "execution_count": 24,
   "id": "29759177",
   "metadata": {},
   "outputs": [],
   "source": [
    "img=  X_train[200]"
   ]
  },
  {
   "cell_type": "code",
   "execution_count": 25,
   "id": "50c3763e",
   "metadata": {},
   "outputs": [
    {
     "data": {
      "text/plain": [
       "<matplotlib.image.AxesImage at 0x2a7978ece80>"
      ]
     },
     "execution_count": 25,
     "metadata": {},
     "output_type": "execute_result"
    },
    {
     "data": {
      "image/png": "[encoded data removed]",
      "text/plain": [
       "<Figure size 432x288 with 1 Axes>"
      ]
     },
     "metadata": {
      "needs_background": "light"
     },
     "output_type": "display_data"
    }
   ],
   "source": [
    "plt.imshow(img,cmap='gray')"
   ]
  },
  {
   "cell_type": "code",
   "execution_count": 23,
   "id": "e993f34c",
   "metadata": {},
   "outputs": [
    {
     "data": {
      "text/plain": [
       "array([5, 0, 4, ..., 5, 6, 8], dtype=uint8)"
      ]
     },
     "execution_count": 23,
     "metadata": {},
     "output_type": "execute_result"
    }
   ],
   "source": [
    "y_train"
   ]
  },
  {
   "cell_type": "code",
   "execution_count": 26,
   "id": "8bc4a348",
   "metadata": {},
   "outputs": [],
   "source": [
    "#Flatenning layer covert 2d into 1d"
   ]
  },
  {
   "cell_type": "code",
   "execution_count": 27,
   "id": "50f7aeb6",
   "metadata": {},
   "outputs": [],
   "source": [
    "img_1d=img.reshape(28*28)"
   ]
  },
  {
   "cell_type": "code",
   "execution_count": 29,
   "id": "4088372f",
   "metadata": {},
   "outputs": [
    {
     "data": {
      "text/plain": [
       "(784,)"
      ]
     },
     "execution_count": 29,
     "metadata": {},
     "output_type": "execute_result"
    }
   ],
   "source": [
    "img_1d.shape"
   ]
  },
  {
   "cell_type": "code",
   "execution_count": 30,
   "id": "677a29f5",
   "metadata": {},
   "outputs": [
    {
     "data": {
      "text/plain": [
       "(60000, 28, 28)"
      ]
     },
     "execution_count": 30,
     "metadata": {},
     "output_type": "execute_result"
    }
   ],
   "source": [
    "X_train.shape"
   ]
  },
  {
   "cell_type": "code",
   "execution_count": 35,
   "id": "c4cd4b2f",
   "metadata": {},
   "outputs": [],
   "source": [
    " X_train1d=X_train.reshape(-1,  28*28) "
   ]
  },
  {
   "cell_type": "code",
   "execution_count": 36,
   "id": "1bea444b",
   "metadata": {},
   "outputs": [
    {
     "data": {
      "text/plain": [
       "(60000, 784)"
      ]
     },
     "execution_count": 36,
     "metadata": {},
     "output_type": "execute_result"
    }
   ],
   "source": [
    "X_train1d.shape"
   ]
  },
  {
   "cell_type": "code",
   "execution_count": 38,
   "id": "9fe7b41c",
   "metadata": {},
   "outputs": [],
   "source": [
    "X_test_1d = X_test.reshape(-1,  28*28)"
   ]
  },
  {
   "cell_type": "code",
   "execution_count": 40,
   "id": "67549937",
   "metadata": {},
   "outputs": [
    {
     "data": {
      "text/plain": [
       "(10000, 784)"
      ]
     },
     "execution_count": 40,
     "metadata": {},
     "output_type": "execute_result"
    }
   ],
   "source": [
    "X_test_1d.shape"
   ]
  },
  {
   "cell_type": "code",
   "execution_count": 41,
   "id": "7f90b0e5",
   "metadata": {},
   "outputs": [],
   "source": [
    "from keras.utils.np_utils import to_categorical"
   ]
  },
  {
   "cell_type": "code",
   "execution_count": 42,
   "id": "2693f2ca",
   "metadata": {},
   "outputs": [
    {
     "data": {
      "text/plain": [
       "(60000,)"
      ]
     },
     "execution_count": 42,
     "metadata": {},
     "output_type": "execute_result"
    }
   ],
   "source": [
    "y_train.shape"
   ]
  },
  {
   "cell_type": "code",
   "execution_count": 43,
   "id": "d963ebf9",
   "metadata": {},
   "outputs": [
    {
     "data": {
      "text/plain": [
       "array([5, 0, 4, ..., 5, 6, 8], dtype=uint8)"
      ]
     },
     "execution_count": 43,
     "metadata": {},
     "output_type": "execute_result"
    }
   ],
   "source": [
    "y_train"
   ]
  },
  {
   "cell_type": "code",
   "execution_count": 48,
   "id": "c6502a0f",
   "metadata": {},
   "outputs": [],
   "source": [
    "y_train_cat=to_categorical(y_train)"
   ]
  },
  {
   "cell_type": "code",
   "execution_count": 49,
   "id": "10fc9be6",
   "metadata": {},
   "outputs": [
    {
     "data": {
      "text/plain": [
       "<matplotlib.image.AxesImage at 0x2a797e66070>"
      ]
     },
     "execution_count": 49,
     "metadata": {},
     "output_type": "execute_result"
    },
    {
     "data": {
      "image/png": "[encoded data removed]",
      "text/plain": [
       "<Figure size 432x288 with 1 Axes>"
      ]
     },
     "metadata": {
      "needs_background": "light"
     },
     "output_type": "display_data"
    }
   ],
   "source": [
    "img=  X_train[300]\n",
    "plt.imshow(img,cmap='gray')"
   ]
  },
  {
   "cell_type": "code",
   "execution_count": 50,
   "id": "4260c79f",
   "metadata": {},
   "outputs": [
    {
     "data": {
      "text/plain": [
       "8"
      ]
     },
     "execution_count": 50,
     "metadata": {},
     "output_type": "execute_result"
    }
   ],
   "source": [
    "y_train[300]"
   ]
  },
  {
   "cell_type": "code",
   "execution_count": 51,
   "id": "358ac842",
   "metadata": {},
   "outputs": [
    {
     "data": {
      "text/plain": [
       "array([0., 0., 0., 0., 0., 0., 0., 0., 1., 0.], dtype=float32)"
      ]
     },
     "execution_count": 51,
     "metadata": {},
     "output_type": "execute_result"
    }
   ],
   "source": [
    "y_train_cat[300]"
   ]
  },
  {
   "cell_type": "code",
   "execution_count": 52,
   "id": "4c66e419",
   "metadata": {},
   "outputs": [],
   "source": [
    "#we have done image processing so move to next part\n"
   ]
  },
  {
   "cell_type": "code",
   "execution_count": 53,
   "id": "0a56459b",
   "metadata": {},
   "outputs": [],
   "source": [
    "from keras.models import Sequential"
   ]
  },
  {
   "cell_type": "code",
   "execution_count": 54,
   "id": "3ae828d3",
   "metadata": {},
   "outputs": [],
   "source": [
    "model = Sequential()"
   ]
  },
  {
   "cell_type": "code",
   "execution_count": 55,
   "id": "5934360d",
   "metadata": {},
   "outputs": [],
   "source": [
    "from keras.layers import Dense"
   ]
  },
  {
   "cell_type": "code",
   "execution_count": 56,
   "id": "912fb5a5",
   "metadata": {},
   "outputs": [],
   "source": [
    "model.add( \n",
    "          \n",
    "          Dense( units=512, input_dim=28*28 , activation='relu')\n",
    "                            \n",
    "\n",
    "            \n",
    "         )"
   ]
  },
  {
   "cell_type": "code",
   "execution_count": 57,
   "id": "1bba18f9",
   "metadata": {},
   "outputs": [
    {
     "name": "stdout",
     "output_type": "stream",
     "text": [
      "Model: \"sequential\"\n",
      "_________________________________________________________________\n",
      " Layer (type)                Output Shape              Param #   \n",
      "=================================================================\n",
      " dense (Dense)               (None, 512)               401920    \n",
      "                                                                 \n",
      "=================================================================\n",
      "Total params: 401,920\n",
      "Trainable params: 401,920\n",
      "Non-trainable params: 0\n",
      "_________________________________________________________________\n"
     ]
    }
   ],
   "source": [
    "model.summary()"
   ]
  },
  {
   "cell_type": "code",
   "execution_count": 58,
   "id": "1ae4d769",
   "metadata": {},
   "outputs": [],
   "source": [
    "model.add( \n",
    "          \n",
    "          Dense( units=256,   activation='relu')\n",
    "                            \n",
    "\n",
    "            \n",
    "         )"
   ]
  },
  {
   "cell_type": "code",
   "execution_count": 59,
   "id": "d08020b8",
   "metadata": {},
   "outputs": [],
   "source": [
    "model.add( \n",
    "          \n",
    "          Dense( units=128,   activation='relu')\n",
    "                            \n",
    "\n",
    "            \n",
    "         )"
   ]
  },
  {
   "cell_type": "code",
   "execution_count": 60,
   "id": "d6c85ab1",
   "metadata": {},
   "outputs": [],
   "source": [
    "model.add( \n",
    "          \n",
    "          Dense( units=64,   activation='relu')\n",
    "                            \n",
    "\n",
    "            \n",
    "         )"
   ]
  },
  {
   "cell_type": "code",
   "execution_count": 61,
   "id": "f926b69c",
   "metadata": {},
   "outputs": [],
   "source": [
    "model.add( \n",
    "          \n",
    "          Dense( units=10,   activation='softmax')\n",
    "                            \n",
    "\n",
    "            \n",
    "         )"
   ]
  },
  {
   "cell_type": "code",
   "execution_count": 62,
   "id": "3a7e31bf",
   "metadata": {},
   "outputs": [
    {
     "name": "stdout",
     "output_type": "stream",
     "text": [
      "Model: \"sequential\"\n",
      "_________________________________________________________________\n",
      " Layer (type)                Output Shape              Param #   \n",
      "=================================================================\n",
      " dense (Dense)               (None, 512)               401920    \n",
      "                                                                 \n",
      " dense_1 (Dense)             (None, 256)               131328    \n",
      "                                                                 \n",
      " dense_2 (Dense)             (None, 128)               32896     \n",
      "                                                                 \n",
      " dense_3 (Dense)             (None, 64)                8256      \n",
      "                                                                 \n",
      " dense_4 (Dense)             (None, 10)                650       \n",
      "                                                                 \n",
      "=================================================================\n",
      "Total params: 575,050\n",
      "Trainable params: 575,050\n",
      "Non-trainable params: 0\n",
      "_________________________________________________________________\n"
     ]
    }
   ],
   "source": [
    "model.summary()"
   ]
  },
  {
   "cell_type": "code",
   "execution_count": 64,
   "id": "45422285",
   "metadata": {},
   "outputs": [],
   "source": [
    "from tensorflow.keras.optimizers import RMSprop"
   ]
  },
  {
   "cell_type": "code",
   "execution_count": 67,
   "id": "e77b6882",
   "metadata": {},
   "outputs": [],
   "source": [
    "model.compile(optimizer=RMSprop(),\n",
    "              loss='categorical_crossentropy',\n",
    "              metrics=['accuracy']) "
   ]
  },
  {
   "cell_type": "code",
   "execution_count": 68,
   "id": "699edd00",
   "metadata": {},
   "outputs": [
    {
     "name": "stdout",
     "output_type": "stream",
     "text": [
      "Epoch 1/50\n",
      "1875/1875 [==============================] - 36s 18ms/step - loss: 0.9386 - accuracy: 0.8745\n",
      "Epoch 2/50\n",
      "1875/1875 [==============================] - 32s 17ms/step - loss: 0.4163 - accuracy: 0.92240s - loss: 0.415\n",
      "Epoch 3/50\n",
      "1875/1875 [==============================] - 30s 16ms/step - loss: 0.4542 - accuracy: 0.9224\n",
      "Epoch 4/50\n",
      "1875/1875 [==============================] - 29s 15ms/step - loss: 0.5444 - accuracy: 0.9128\n",
      "Epoch 5/50\n",
      "1875/1875 [==============================] - 30s 16ms/step - loss: 0.6156 - accuracy: 0.9041\n",
      "Epoch 6/50\n",
      "1875/1875 [==============================] - 29s 16ms/step - loss: 0.6050 - accuracy: 0.89820s - loss: 0.6000 - \n",
      "Epoch 7/50\n",
      "1875/1875 [==============================] - 29s 15ms/step - loss: 0.7697 - accuracy: 0.8751\n",
      "Epoch 8/50\n",
      "1875/1875 [==============================] - 29s 16ms/step - loss: 0.9772 - accuracy: 0.8195\n",
      "Epoch 9/50\n",
      "1875/1875 [==============================] - 30s 16ms/step - loss: 1.1339 - accuracy: 0.7714\n",
      "Epoch 10/50\n",
      "1875/1875 [==============================] - 28s 15ms/step - loss: 1.3714 - accuracy: 0.7691\n",
      "Epoch 11/50\n",
      "1875/1875 [==============================] - 40s 21ms/step - loss: 1.4882 - accuracy: 0.7655\n",
      "Epoch 12/50\n",
      "1875/1875 [==============================] - 51s 27ms/step - loss: 1.5300 - accuracy: 0.77212s - loss: - ETA: 1s -\n",
      "Epoch 13/50\n",
      "1875/1875 [==============================] - 43s 23ms/step - loss: 1.7324 - accuracy: 0.75421s - loss: 1.7366 - accuracy: 0.75 - ETA: 1s - loss: 1.7350 - accuracy: 0. - ETA: 1s - l\n",
      "Epoch 14/50\n",
      "1875/1875 [==============================] - 50s 27ms/step - loss: 2.5143 - accuracy: 0.6964\n",
      "Epoch 15/50\n",
      "1875/1875 [==============================] - 46s 25ms/step - loss: 2.3548 - accuracy: 0.6728\n",
      "Epoch 16/50\n",
      "1875/1875 [==============================] - 39s 21ms/step - loss: 3.2430 - accuracy: 0.6729\n",
      "Epoch 17/50\n",
      "1875/1875 [==============================] - 37s 20ms/step - loss: 3.9006 - accuracy: 0.6180\n",
      "Epoch 18/50\n",
      "1875/1875 [==============================] - 35s 19ms/step - loss: 3.2534 - accuracy: 0.5943\n",
      "Epoch 19/50\n",
      "1875/1875 [==============================] - 37s 20ms/step - loss: 4.9106 - accuracy: 0.56951s - loss:\n",
      "Epoch 20/50\n",
      "1875/1875 [==============================] - 45s 24ms/step - loss: 4.7595 - accuracy: 0.6091\n",
      "Epoch 21/50\n",
      "1875/1875 [==============================] - 42s 22ms/step - loss: 5.9943 - accuracy: 0.6005\n",
      "Epoch 22/50\n",
      "1875/1875 [==============================] - 33s 18ms/step - loss: 4.7763 - accuracy: 0.5770\n",
      "Epoch 23/50\n",
      "1875/1875 [==============================] - 32s 17ms/step - loss: 6.8781 - accuracy: 0.5412\n",
      "Epoch 24/50\n",
      "1875/1875 [==============================] - 34s 18ms/step - loss: 8.2581 - accuracy: 0.4633\n",
      "Epoch 25/50\n",
      "1875/1875 [==============================] - 36s 19ms/step - loss: 16.9186 - accuracy: 0.4923 0s - loss: 16.8708 - acc\n",
      "Epoch 26/50\n",
      "1875/1875 [==============================] - 34s 18ms/step - loss: 8.9801 - accuracy: 0.4128\n",
      "Epoch 27/50\n",
      "1875/1875 [==============================] - 40s 21ms/step - loss: 17.0298 - accuracy: 0.3790 4s - loss: 17.1845  - ETA: 3s - loss: 16.7356 -\n",
      "Epoch 28/50\n",
      "1875/1875 [==============================] - 32s 17ms/step - loss: 14.6672 - accuracy: 0.4579 1s - loss:  - ETA: 0s - loss: 14.7945 - accuracy: \n",
      "Epoch 29/50\n",
      "1875/1875 [==============================] - 32s 17ms/step - loss: 25.5840 - accuracy: 0.4098\n",
      "Epoch 30/50\n",
      "1875/1875 [==============================] - 29s 15ms/step - loss: 17.9234 - accuracy: 0.4071\n",
      "Epoch 31/50\n",
      "1875/1875 [==============================] - 31s 17ms/step - loss: 15.2829 - accuracy: 0.3736\n",
      "Epoch 32/50\n",
      "1875/1875 [==============================] - 28s 15ms/step - loss: 9.4365 - accuracy: 0.3790\n",
      "Epoch 33/50\n",
      "1875/1875 [==============================] - 32s 17ms/step - loss: 4.6006 - accuracy: 0.2529\n",
      "Epoch 34/50\n",
      "1875/1875 [==============================] - 28s 15ms/step - loss: 6.5025 - accuracy: 0.2299\n",
      "Epoch 35/50\n",
      "1875/1875 [==============================] - 28s 15ms/step - loss: 6.8975 - accuracy: 0.2142\n",
      "Epoch 36/50\n",
      "1875/1875 [==============================] - 30s 16ms/step - loss: 20.0359 - accuracy: 0.3297\n",
      "Epoch 37/50\n",
      "1875/1875 [==============================] - 39s 21ms/step - loss: 8.0711 - accuracy: 0.2437\n",
      "Epoch 38/50\n",
      "1875/1875 [==============================] - 43s 23ms/step - loss: 16.0491 - accuracy: 0.2290 0s - loss: 16.2732 - a\n",
      "Epoch 39/50\n",
      "1875/1875 [==============================] - 42s 23ms/step - loss: 9.1667 - accuracy: 0.15961s - loss: 9.3720 - ac - ETA: 0s - l\n",
      "Epoch 40/50\n",
      "1875/1875 [==============================] - 39s 21ms/step - loss: 3.3661 - accuracy: 0.1409\n",
      "Epoch 41/50\n",
      "1875/1875 [==============================] - 37s 20ms/step - loss: 4.4133 - accuracy: 0.1762\n",
      "Epoch 42/50\n",
      "1875/1875 [==============================] - 40s 21ms/step - loss: 13.9101 - accuracy: 0.2177 3s - loss: 14.9 - ETA:\n",
      "Epoch 43/50\n",
      "1875/1875 [==============================] - 43s 23ms/step - loss: 27.8384 - accuracy: 0.2831\n",
      "Epoch 44/50\n",
      "1875/1875 [==============================] - 41s 22ms/step - loss: 6.0758 - accuracy: 0.2167\n",
      "Epoch 45/50\n",
      "1875/1875 [==============================] - 40s 21ms/step - loss: 30.9058 - accuracy: 0.2730 6s - loss: 24\n",
      "Epoch 46/50\n",
      "1875/1875 [==============================] - 39s 21ms/step - loss: 19.7084 - accuracy: 0.2750 5s - loss: 22.5826 - accuracy:  - ETA: 5s  - ETA: 3s - loss: 21.1449  - ETA: 1s - loss: 20.3\n",
      "Epoch 47/50\n",
      "1875/1875 [==============================] - 39s 21ms/step - loss: 6.2165 - accuracy: 0.24102s - - ETA: 1s -\n",
      "Epoch 48/50\n",
      "1875/1875 [==============================] - 35s 19ms/step - loss: 20.4152 - accuracy: 0.3028 0s - loss: 20.5352 - accuracy: 0. - ETA: 0s - loss: 20.4152 - accuracy: 0.302\n",
      "Epoch 49/50\n",
      "1875/1875 [==============================] - 41s 22ms/step - loss: 43.1111 - accuracy: 0.2502 7s - loss: 34.0336 \n",
      "Epoch 50/50\n",
      "1875/1875 [==============================] - 41s 22ms/step - loss: 101.7235 - accuracy: 0.2587: 14s - loss\n"
     ]
    },
    {
     "data": {
      "text/plain": [
       "<keras.callbacks.History at 0x2a79918f820>"
      ]
     },
     "execution_count": 68,
     "metadata": {},
     "output_type": "execute_result"
    }
   ],
   "source": [
    "model.fit(x_train1d,y_train_cat,epochs=50)"
   ]
  },
  {
   "cell_type": "code",
   "execution_count": 71,
   "id": "4ca59c45",
   "metadata": {},
   "outputs": [],
   "source": [
    "img_test=X_test [15]"
   ]
  },
  {
   "cell_type": "code",
   "execution_count": 72,
   "id": "d0991add",
   "metadata": {},
   "outputs": [
    {
     "data": {
      "text/plain": [
       "<matplotlib.image.AxesImage at 0x2a7982bbd60>"
      ]
     },
     "execution_count": 72,
     "metadata": {},
     "output_type": "execute_result"
    },
    {
     "data": {
      "image/png": "[encoded data removed]",
      "text/plain": [
       "<Figure size 432x288 with 1 Axes>"
      ]
     },
     "metadata": {
      "needs_background": "light"
     },
     "output_type": "display_data"
    }
   ],
   "source": [
    "plt.imshow(img_test )"
   ]
  },
  {
   "cell_type": "code",
   "execution_count": 77,
   "id": "dddbcd47",
   "metadata": {},
   "outputs": [],
   "source": [
    "img_test_1d= img_test.reshape(1 , 28*28)"
   ]
  },
  {
   "cell_type": "code",
   "execution_count": 78,
   "id": "7d52d470",
   "metadata": {},
   "outputs": [
    {
     "data": {
      "text/plain": [
       "array([[  0,   0,   0,   0,   0,   0,   0,   0,   0,   0,   0,   0,   0,\n",
       "          0,   0,   0,   0,   0,   0,   0,   0,   0,   0,   0,   0,   0,\n",
       "          0,   0,   0,   0,   0,   0,   0,   0,   0,   0,   0,   0,   0,\n",
       "          0,   0,   0,   0,   0,   0,   0,   0,   0,   0,   0,   0,   0,\n",
       "          0,   0,   0,   0,   0,   0,   0,   0,   0,   0,   0,   0,   0,\n",
       "          0,   0,   0,   0,   0,   0,   0,   0,   0,   0,   0,   0,   0,\n",
       "          0,   0,   0,   0,   0,   0,   0,   0,   0,   0,   0,   0,   0,\n",
       "          0,   0,   0,   0,   0,   0,   0,   0,   0,   0,   0,   0,   0,\n",
       "          0,   0,   0,   0,   0,   0,   0,   0,   0,   0,   0,   0,   0,\n",
       "          0,   0,   0,   0,   0,   0,   0,  51, 132, 214, 253, 254, 253,\n",
       "        203, 162,  41,   0,   0,   0,   0,   0,   0,   0,   0,   0,   0,\n",
       "          0,   0,   0,   0,   0, 102, 142, 203, 203, 253, 252, 253, 252,\n",
       "        151,  70,   0,   0,   0,   0,   0,   0,   0,   0,   0,   0,   0,\n",
       "          0,   0,   0,   0,   0,   0,   0, 254, 253, 244, 203, 142, 102,\n",
       "         82,   0,   0,   0,   0,   0,   0,   0,   0,   0,   0,   0,   0,\n",
       "          0,   0,   0,   0,   0,   0,   0,   0,   0, 172, 252, 203,   0,\n",
       "          0,   0,   0,   0,   0,   0,   0,   0,   0,   0,   0,   0,   0,\n",
       "          0,   0,   0,   0,   0,   0,   0,   0,   0,   0,   0,  21, 223,\n",
       "        234,  30,   0,   0,   0,   0,   0,   0,   0,   0,   0,   0,   0,\n",
       "          0,   0,   0,   0,   0,   0,   0,   0,   0,   0,   0,   0,   0,\n",
       "          0, 122, 253,  50,   0,   0,   0,   0,   0,   0,   0,   0,   0,\n",
       "          0,   0,   0,   0,   0,   0,   0,   0,   0,   0,   0,   0,   0,\n",
       "          0,   0,   0, 123, 254,  91,  51,  51,  51,  10,   0,   0,   0,\n",
       "          0,   0,   0,   0,   0,   0,   0,   0,   0,   0,   0,   0,   0,\n",
       "          0,   0,   0,   0,  21, 223, 253, 252, 253, 252, 253, 172,  82,\n",
       "          0,   0,   0,   0,   0,   0,   0,   0,   0,   0,   0,   0,   0,\n",
       "          0,   0,   0,   0,   0,  21, 214, 253, 203, 162, 102, 102, 203,\n",
       "        223, 254, 253,  51,  10,   0,   0,   0,   0,   0,   0,   0,   0,\n",
       "          0,   0,   0,   0,   0,   0,   0,  61, 253, 171,   0,   0,   0,\n",
       "          0,   0,  20, 112, 192, 253, 212,  41,   0,   0,   0,   0,   0,\n",
       "          0,   0,   0,   0,   0,   0,   0,   0,   0,   0,   0,   0,   0,\n",
       "          0,   0,   0,   0,   0,   0,   0, 102, 203, 234,  51,   0,   0,\n",
       "          0,   0,   0,   0,   0,   0,   0,   0,   0,   0,   0,   0,   0,\n",
       "          0,   0,   0,   0,   0,   0,   0,   0,   0,   0,  20, 213, 232,\n",
       "         82,   0,   0,   0,   0,   0,   0,   0,   0,   0,   0,   0,   0,\n",
       "          0,   0,   0,   0,   0,   0,   0,   0,   0,   0,   0,   0,   0,\n",
       "         62, 203, 234, 112,   0,   0,   0,   0,   0,   0,   0,   0,   0,\n",
       "          0,   0,   0,   0,   0,   0,   0,   0,   0,   0,   0,   0,   0,\n",
       "          0,   0,   0,  20, 213, 252,   0,   0,   0,   0,   0,   0,   0,\n",
       "          0,   0,   0,   0,   0,   0,   0,   0,   0,   0,   0,   0,   0,\n",
       "          0,   0,   0,   0,   0,   0, 153, 253,   0,   0,   0,   0,   0,\n",
       "          0,   0,   0,   0,   0,   0,   0,   0,   0,   0,   0,   0,   0,\n",
       "          0,   0,   0,   0,   0,   0,   0,  41, 233, 212,   0,   0,   0,\n",
       "          0,   0,   0,   0,   0,   0,   0,   0,   0, 113,  92,   0,   0,\n",
       "          0,   0,   0,   0,   0,   0,   0,   0,  31, 173, 244,  40,   0,\n",
       "          0,   0,   0,   0,   0,   0,   0,   0,   0,   0,  82, 253, 151,\n",
       "          0,   0,   0,   0,   0,   0,  21, 102, 102, 183, 233, 212,  81,\n",
       "          0,   0,   0,   0,   0,   0,   0,   0,   0,   0,   0,   0,  82,\n",
       "        255, 253, 234, 152, 153, 193, 173, 253, 254, 253, 254, 213, 142,\n",
       "         20,   0,   0,   0,   0,   0,   0,   0,   0,   0,   0,   0,   0,\n",
       "          0,   0,  71, 151, 151, 232, 253, 212, 192, 151, 131,  50,  50,\n",
       "         10,   0,   0,   0,   0,   0,   0,   0,   0,   0,   0,   0,   0,\n",
       "          0,   0,   0,   0,   0,   0,   0,   0,   0,   0,   0,   0,   0,\n",
       "          0,   0,   0,   0,   0,   0,   0,   0,   0,   0,   0,   0,   0,\n",
       "          0,   0,   0,   0,   0,   0,   0,   0,   0,   0,   0,   0,   0,\n",
       "          0,   0,   0,   0,   0,   0,   0,   0,   0,   0,   0,   0,   0,\n",
       "          0,   0,   0,   0,   0,   0,   0,   0,   0,   0,   0,   0,   0,\n",
       "          0,   0,   0,   0,   0,   0,   0,   0,   0,   0,   0,   0,   0,\n",
       "          0,   0,   0,   0,   0,   0,   0,   0,   0,   0,   0,   0,   0,\n",
       "          0,   0,   0,   0,   0,   0,   0,   0,   0,   0,   0,   0,   0,\n",
       "          0,   0,   0,   0]], dtype=uint8)"
      ]
     },
     "execution_count": 78,
     "metadata": {},
     "output_type": "execute_result"
    }
   ],
   "source": [
    "img_test_1d"
   ]
  },
  {
   "cell_type": "code",
   "execution_count": 79,
   "id": "3c954e17",
   "metadata": {},
   "outputs": [
    {
     "data": {
      "text/plain": [
       "(1, 784)"
      ]
     },
     "execution_count": 79,
     "metadata": {},
     "output_type": "execute_result"
    }
   ],
   "source": [
    "img_test_1d.shape"
   ]
  },
  {
   "cell_type": "code",
   "execution_count": 80,
   "id": "d103ff12",
   "metadata": {},
   "outputs": [
    {
     "data": {
      "text/plain": [
       "array([[0.05510321, 0.11333136, 0.10932318, 0.08877119, 0.10060245,\n",
       "        0.07666478, 0.11085515, 0.11584308, 0.11404601, 0.11545959]],\n",
       "      dtype=float32)"
      ]
     },
     "execution_count": 80,
     "metadata": {},
     "output_type": "execute_result"
    }
   ],
   "source": [
    "model.predict(img_test_1d)"
   ]
  },
  {
   "cell_type": "raw",
   "id": "548d922f",
   "metadata": {},
   "source": []
  },
  {
   "cell_type": "code",
   "execution_count": 81,
   "id": "830ecf19",
   "metadata": {},
   "outputs": [],
   "source": []
  },
  {
   "cell_type": "code",
   "execution_count": 96,
   "id": "09a6270e",
   "metadata": {},
   "outputs": [],
   "source": [
    "img_test=X_test [800]"
   ]
  },
  {
   "cell_type": "code",
   "execution_count": 97,
   "id": "24ea392d",
   "metadata": {},
   "outputs": [
    {
     "data": {
      "text/plain": [
       "<matplotlib.image.AxesImage at 0x2a79bd8b1f0>"
      ]
     },
     "execution_count": 97,
     "metadata": {},
     "output_type": "execute_result"
    },
    {
     "data": {
      "image/png": "[encoded data removed]",
      "text/plain": [
       "<Figure size 432x288 with 1 Axes>"
      ]
     },
     "metadata": {
      "needs_background": "light"
     },
     "output_type": "display_data"
    }
   ],
   "source": [
    "plt.imshow(img_test )"
   ]
  },
  {
   "cell_type": "code",
   "execution_count": 98,
   "id": "9e851aaa",
   "metadata": {},
   "outputs": [
    {
     "data": {
      "text/plain": [
       "array([[0.05510321, 0.11333136, 0.10932318, 0.08877119, 0.10060245,\n",
       "        0.07666478, 0.11085515, 0.11584308, 0.11404601, 0.11545959]],\n",
       "      dtype=float32)"
      ]
     },
     "execution_count": 98,
     "metadata": {},
     "output_type": "execute_result"
    }
   ],
   "source": [
    "model.predict(img_test_1d)"
   ]
  },
  {
   "cell_type": "code",
   "execution_count": null,
   "id": "cc5d10b6",
   "metadata": {},
   "outputs": [],
   "source": []
  }
 ],
 "metadata": {
  "kernelspec": {
   "display_name": "Python 3",
   "language": "python",
   "name": "python3"
  },
  "language_info": {
   "codemirror_mode": {
    "name": "ipython",
    "version": 3
   },
   "file_extension": ".py",
   "mimetype": "text/x-python",
   "name": "python",
   "nbconvert_exporter": "python",
   "pygments_lexer": "ipython3",
   "version": "3.8.8"
  }
 },
 "nbformat": 4,
 "nbformat_minor": 5
}
